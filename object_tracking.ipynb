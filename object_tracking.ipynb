{
 "cells": [
  {
   "cell_type": "markdown",
   "id": "9e6ce8ba",
   "metadata": {},
   "source": [
    "# 객체 추적 함수\n",
    "- cv2.\\__version\\__ : 3.4.11\n",
    "- conda --version : 22.9.0\n",
    "- python --version : 3.9.13\n",
    "- tracker : TrackerCSRT"
   ]
  },
  {
   "cell_type": "code",
   "execution_count": null,
   "id": "16df6660",
   "metadata": {},
   "outputs": [],
   "source": [
    "import cv2\n",
    "\n",
    "def run_object_tracking(video_path):\n",
    "    cap = cv2.VideoCapture(video_path)\n",
    "\n",
    "    # 영상객체를 정상적으로 불러온 경우\n",
    "    if cap.isOpened():\n",
    "        fps = cap.get(cv2.CAP_PROP_FPS)\n",
    "        delay = int(1000/fps)\n",
    "        \n",
    "        tracker = cv2.TrackerCSRT_create()\n",
    "\n",
    "        while True :\n",
    "            ret, frame = cap.read()\n",
    "            # 프레임을 읽지 못한 경우\n",
    "            if not ret:\n",
    "                print(\"Can't read video file\")\n",
    "                break\n",
    "\n",
    "            img_draw = frame.copy()\n",
    "\n",
    "            # 트래커 생성이 않된 경우\n",
    "            if tracker is None:\n",
    "                cv2.putText(img_draw, \"No Tracker!!!\", (30,30),\\\n",
    "                            cv2.FONT_HERSHEY_SIMPLEX, 0.75, (0,0,255), 2, cv2.LINE_AA)\n",
    "\n",
    "            # 새로운 프레임에서 추적 위치 찾기\n",
    "            else :\n",
    "                ok, bbox = tracker.update(frame)\n",
    "                (x,y,w,h) = bbox\n",
    "                # 추적 성공\n",
    "                if ok:\n",
    "                    cv2.rectangle(img_draw, (int(x), int(y)), (int(x+w),int(y+h)), \\\n",
    "                                            (0,255,0), 2, 1)\n",
    "                # 추적 실패\n",
    "                else :\n",
    "                    cv2.putText(img_draw, \"Tracking fail\", (30,30), \\\n",
    "                               cv2.FONT_HERSHEY_SIMPLEX, 0.75, (0,255,0),2,cv2.LINE_AA)\n",
    "\n",
    "            cv2.imshow('tracking', img_draw)\n",
    "            key = cv2.waitKey(delay) & 0xff\n",
    "            if key == ord(' '):\n",
    "                # 초기 객체 위치 설정\n",
    "                roi = cv2.selectROI('tracking', frame, False)\n",
    "\n",
    "                # roi 영역을 선택하지 않았을 경우\n",
    "                if roi == (0,0,0,0) :\n",
    "                    cv2.imshow('tracking', frame)\n",
    "                elif any(roi) :\n",
    "                    tracker = cv2.TrackerCSRT_create()\n",
    "                    tracker.init(frame, roi)\n",
    "            elif key == 27:\n",
    "                break\n",
    "    else:\n",
    "        print(\"Could not open video\")\n",
    "    cap.release()\n",
    "    cv2.destroyAllWindows()\n",
    "    \n",
    "video_path = './data/load.mp4'\n",
    "run_object_tracking(video_path)"
   ]
  }
 ],
 "metadata": {
  "kernelspec": {
   "display_name": "Python 3 (ipykernel)",
   "language": "python",
   "name": "python3"
  },
  "language_info": {
   "codemirror_mode": {
    "name": "ipython",
    "version": 3
   },
   "file_extension": ".py",
   "mimetype": "text/x-python",
   "name": "python",
   "nbconvert_exporter": "python",
   "pygments_lexer": "ipython3",
   "version": "3.9.13"
  }
 },
 "nbformat": 4,
 "nbformat_minor": 5
}
